{
 "cells": [
  {
   "cell_type": "code",
   "execution_count": 1,
   "id": "8d7aa56d",
   "metadata": {},
   "outputs": [],
   "source": [
    "from espn_api.football import League\n",
    "from collections import defaultdict\n",
    "import pandas as pd\n",
    "from ff_utils import owner_clean, load_game_data_from_csv, save_game_data_to_csv \n",
    "league_id = 800692\n",
    "year = 2012\n",
    "espn_s2=\"AECIWYgmieI54iV95TVm%2BL135zhJwAnVm9nOZsad1hBOfIEBU4%2FkXAK6mQ61M7xmIoMeITBWYTxDNGJhUbmi8WsARDuq6pmRADmrme1SwUgLsb%2B745GSuJWHIkmLeQoL4nBrBb3CHTExSRD8uIj0xuRlUSZXy12Lcm1YYa6Ha4G6ALVQH9uTmtn6b5XM%2B53qY34w6cPx02NhRgmsdOFGiW%2Bxte4j0f9OYnzGQmPvEV%2BV4lHwvBMMoIkBDE1LAMmTRn8%3D\"\n",
    "SWID=\"{8B19FBEC-AA6A-4006-99FB-ECAA6AF00669}\"\n",
    "YEARS = range(2012, 2023)"
   ]
  },
  {
   "cell_type": "code",
   "execution_count": 3,
   "id": "9902a0a3",
   "metadata": {},
   "outputs": [],
   "source": [
    "league = League(league_id, year, espn_s2=espn_s2, swid=SWID)\n",
    "league_map = {}"
   ]
  },
  {
   "cell_type": "code",
   "execution_count": 4,
   "id": "b5a1b589",
   "metadata": {},
   "outputs": [
    {
     "name": "stdout",
     "output_type": "stream",
     "text": [
      "league attributes ['_abc_impl', '_fetch_draft', '_fetch_league', '_fetch_players', '_fetch_teams', '_get_all_pro_schedule', '_get_positional_ratings', '_get_pro_schedule', 'box_scores', 'currentMatchupPeriod', 'current_week', 'draft', 'espn_request', 'fetch_league', 'finalScoringPeriod', 'firstScoringPeriod', 'free_agents', 'get_team_data', 'league_id', 'least_scored_week', 'least_scorer', 'load_roster_week', 'logger', 'most_points_against', 'nfl_week', 'player_info', 'player_map', 'power_rankings', 'recent_activity', 'refresh', 'scoreboard', 'scoringPeriodId', 'settings', 'standings', 'teams', 'top_scored_week', 'top_scorer', 'year']\n",
      "Teams attributes ['_fetch_roster', '_fetch_schedule', '_get_winner', 'acquisition_budget_spent', 'acquisitions', 'division_id', 'division_name', 'draft_projected_rank', 'drops', 'final_standing', 'get_player_name', 'logo_url', 'losses', 'mov', 'outcomes', 'owner', 'playoff_pct', 'points_against', 'points_for', 'roster', 'schedule', 'scores', 'standing', 'streak_length', 'streak_type', 'team_abbrev', 'team_id', 'team_name', 'ties', 'trades', 'wins']\n"
     ]
    }
   ],
   "source": [
    "print(\"league attributes\",[att for att in dir(league) if '__' not in att] )\n",
    "team = league.teams[0]\n",
    "print(\"Teams attributes\", [att for att in dir(team) if '__' not in att])"
   ]
  },
  {
   "cell_type": "code",
   "execution_count": null,
   "id": "4287e1ed",
   "metadata": {},
   "outputs": [],
   "source": [
    "team_names = defaultdict(list)\n",
    "for year in YEARS:\n",
    "    if year in league_map:\n",
    "        league = league_map[year]\n",
    "    else:\n",
    "        league = League(league_id, year, espn_s2=espn_s2, swid=SWID)\n",
    "        league_map[year] = league\n",
    "    for team in league.teams:\n",
    "        if team.team_name not in team_names[team.owner]:\n",
    "            team_names[team.owner].append(team.team_name)"
   ]
  },
  {
   "cell_type": "code",
   "execution_count": null,
   "id": "e5710560",
   "metadata": {},
   "outputs": [],
   "source": [
    "team_names"
   ]
  },
  {
   "cell_type": "code",
   "execution_count": null,
   "id": "68c6c2d0",
   "metadata": {},
   "outputs": [],
   "source": [
    "league = league_map[2012]\n",
    "matchup = league.scoreboard(week=2)[0]\n",
    "print(\"matchup attributes\",[att for att in dir(matchup) if '__' not in att] )"
   ]
  },
  {
   "cell_type": "code",
   "execution_count": null,
   "id": "89455931",
   "metadata": {},
   "outputs": [],
   "source": []
  },
  {
   "cell_type": "code",
   "execution_count": null,
   "id": "ba4b415e",
   "metadata": {},
   "outputs": [],
   "source": []
  },
  {
   "cell_type": "code",
   "execution_count": null,
   "id": "e92aa773",
   "metadata": {},
   "outputs": [],
   "source": [
    "#THIS REGENERATES ALL HISTORIC DATA, takes ~60 seconds\n",
    "# save_game_data_to_csv()\n",
    "\n",
    "#THIS REGENERATES HISTORIC DATA FOR 1 SEASON\n",
    "# save_gama_data_to_csv([2022])"
   ]
  },
  {
   "cell_type": "code",
   "execution_count": null,
   "id": "e5812f1e",
   "metadata": {},
   "outputs": [],
   "source": [
    "at_df = load_game_data_from_csv()\n",
    "reg_df = at_df[(at_df.is_playoff==False) & (at_df.result != 'NO CONTEST')]"
   ]
  },
  {
   "cell_type": "code",
   "execution_count": null,
   "id": "04c15586",
   "metadata": {},
   "outputs": [],
   "source": [
    "## Lowest scoring game of all time\n",
    "reg_df.sort_values('team_score').head(5)"
   ]
  },
  {
   "cell_type": "code",
   "execution_count": null,
   "id": "eab8c874",
   "metadata": {},
   "outputs": [],
   "source": [
    "## Highest scoring game of all time\n",
    "reg_df.sort_values('team_score', ascending=False).head(5)"
   ]
  },
  {
   "cell_type": "code",
   "execution_count": null,
   "id": "bd934060",
   "metadata": {},
   "outputs": [],
   "source": [
    "## Lowest scoring WIN of all time\n",
    "win_df = reg_df[reg_df.result == 'WIN']\n",
    "win_df.sort_values('team_score').head(5)"
   ]
  },
  {
   "cell_type": "code",
   "execution_count": null,
   "id": "1a537ad7",
   "metadata": {},
   "outputs": [],
   "source": [
    "## Highest scoring LOSS of all time\n",
    "loss_df = reg_df[reg_df.result == 'LOSS']\n",
    "loss_df.sort_values('team_score', ascending=False).head(5)"
   ]
  },
  {
   "cell_type": "code",
   "execution_count": null,
   "id": "d89836c8",
   "metadata": {},
   "outputs": [],
   "source": [
    "## All Time (Regular Season) Records\n",
    "atr = reg_df.groupby('team').agg({'win': 'sum', 'loss': 'sum', 'team_score': 'sum', 'opponent_score': 'sum'}).reset_index()\n",
    "atr['games_played'] = atr.win+atr.loss\n",
    "atr['win_pct'] = atr.win / atr.games_played\n",
    "atr['pf_pg'] = atr.team_score / atr.games_played\n",
    "atr['pa_pg'] = atr.opponent_score / atr.games_played\n",
    "atr.sort_values('win_pct')"
   ]
  },
  {
   "cell_type": "code",
   "execution_count": null,
   "id": "277d44e2",
   "metadata": {},
   "outputs": [],
   "source": [
    "## Most & Least Points For (normalized per game)\n",
    "atr.sort_values('pf_pg')"
   ]
  },
  {
   "cell_type": "code",
   "execution_count": null,
   "id": "11cd68bd",
   "metadata": {},
   "outputs": [],
   "source": [
    "## Most & Least Points Against (normalized per game)\n",
    "atr.sort_values('pa_pg')"
   ]
  }
 ],
 "metadata": {
  "kernelspec": {
   "display_name": "Python 3 (ipykernel)",
   "language": "python",
   "name": "python3"
  },
  "language_info": {
   "codemirror_mode": {
    "name": "ipython",
    "version": 3
   },
   "file_extension": ".py",
   "mimetype": "text/x-python",
   "name": "python",
   "nbconvert_exporter": "python",
   "pygments_lexer": "ipython3",
   "version": "3.9.13"
  }
 },
 "nbformat": 4,
 "nbformat_minor": 5
}
